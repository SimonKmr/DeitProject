{
 "cells": [
  {
   "cell_type": "code",
   "execution_count": null,
   "id": "88f2e225-d247-491d-87ea-efe01876734d",
   "metadata": {},
   "outputs": [],
   "source": [
    "import pandas as pd\n",
    "import matplotlib.pyplot as plt"
   ]
  },
  {
   "cell_type": "code",
   "execution_count": null,
   "id": "0a6751a3-4968-41b3-92d7-8db8b348054e",
   "metadata": {},
   "outputs": [],
   "source": [
    "deit = pd.read_csv('../../networks/birds_deit/inferenceTime.csv',sep=';')\n",
    "levit = pd.read_csv('../../networks/birds_levit/inferenceTime.csv',sep=';')\n",
    "effnet = pd.read_csv('../../networks/birds_effnet/inferenceTime.csv',sep=';')"
   ]
  }
 ],
 "metadata": {
  "kernelspec": {
   "display_name": "Python 3 (ipykernel)",
   "language": "python",
   "name": "python3"
  },
  "language_info": {
   "codemirror_mode": {
    "name": "ipython",
    "version": 3
   },
   "file_extension": ".py",
   "mimetype": "text/x-python",
   "name": "python",
   "nbconvert_exporter": "python",
   "pygments_lexer": "ipython3",
   "version": "3.13.5"
  }
 },
 "nbformat": 4,
 "nbformat_minor": 5
}
