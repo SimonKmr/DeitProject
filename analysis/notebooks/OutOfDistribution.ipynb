{
 "cells": [
  {
   "cell_type": "code",
   "execution_count": 1,
   "id": "14534783-ede4-457e-b626-65232a6fff1d",
   "metadata": {},
   "outputs": [],
   "source": [
    "import pandas as pd\n",
    "import matplotlib.pyplot as plt"
   ]
  },
  {
   "cell_type": "code",
   "execution_count": 2,
   "id": "4f05f462-389b-4ec9-9770-4d6fae0e7ad6",
   "metadata": {},
   "outputs": [],
   "source": [
    "column_names = ['original','label 1','score 1','label 2','score 2','label 3','score 3','label 4','score 4','label 5','score 5']\n",
    "\n",
    "deit = pd.read_csv('../../networks/birds_deit/outOfDistribution.csv',sep=';',names=column_names)\n",
    "levit = pd.read_csv('../../networks/birds_levit/outOfDistribution.csv',sep=';',names=column_names)\n",
    "effnet = pd.read_csv('../../networks/birds_effnet/outOfDistribution.csv',sep=';',names=column_names)"
   ]
  }
 ],
 "metadata": {
  "kernelspec": {
   "display_name": "Python 3 (ipykernel)",
   "language": "python",
   "name": "python3"
  },
  "language_info": {
   "codemirror_mode": {
    "name": "ipython",
    "version": 3
   },
   "file_extension": ".py",
   "mimetype": "text/x-python",
   "name": "python",
   "nbconvert_exporter": "python",
   "pygments_lexer": "ipython3",
   "version": "3.13.5"
  }
 },
 "nbformat": 4,
 "nbformat_minor": 5
}
